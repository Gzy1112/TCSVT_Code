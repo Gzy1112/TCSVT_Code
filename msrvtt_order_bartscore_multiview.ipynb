{
 "cells": [
  {
   "cell_type": "code",
   "execution_count": null,
   "metadata": {},
   "outputs": [],
   "source": [
    "from bart_score import BARTScorer\n",
    "import re\n",
    "import numpy as np\n",
    "import json\n",
    "from sentence_transformers import SentenceTransformer, util"
   ]
  },
  {
   "cell_type": "code",
   "execution_count": null,
   "metadata": {},
   "outputs": [],
   "source": [
    "bart_scorer = BARTScorer(device='cuda:0', checkpoint=\"/data/nlp_dev/BARTScore-main/bart_large_cnn/\")#checkpoint='facebook/bart-large-cnn') \n",
    "bart_scorer.load(path='/data/nlp_dev/BARTScore-main/bart_score.pth')"
   ]
  },
  {
   "cell_type": "code",
   "execution_count": null,
   "metadata": {},
   "outputs": [],
   "source": [
    "gen_file = \"saveGenMSRVTT-uniformsample-diverse.json\" \n",
    "fcc_file = \"MSRVTT-Order.json\" \n",
    "\n",
    "with open(fcc_file, 'r') as fcc_file:\n",
    "    fcc_data = json.load(fcc_file)\n",
    "    print(fcc_data)\n",
    "\n",
    "with open(gen_file, 'r') as gen_file:\n",
    "    gen_data = json.load(gen_file)\n",
    "    print(gen_data)\n",
    "\n",
    "correct = 0\n",
    "num = 0\n",
    "for item in fcc_data:\n",
    "    num = num + 1\n",
    "    video_id = item['video_id']\n",
    "    for idx in gen_data:\n",
    "        if idx['video_folder_name'] == video_id:\n",
    "            describe_content = idx['describe_content']\n",
    "    \n",
    "    result_list = re.split(r'[.]', describe_content) \n",
    "    if '</s>' in result_list[-1] or '' in result_list[-1]:\n",
    "        result_list.pop()\n",
    "    llava_txt_num = len(result_list)\n",
    "    \n",
    "    bart_score = []\n",
    "    for c_option in item['captions']: #5 sentence\n",
    "        for llava_result in result_list:\n",
    "            bart_score_tmp = bart_scorer.score([llava_result],[c_option])\n",
    "            bart_score.append(bart_score_tmp[0])\n",
    "\n",
    "    first_max = np.mean(bart_score[:llava_txt_num]) \n",
    "    second_max = np.mean(bart_score[llava_txt_num: 2*llava_txt_num])\n",
    "    third_max = np.mean(bart_score[2* llava_txt_num: 3*llava_txt_num])\n",
    "    fourth_max = np.mean(bart_score[3*llava_txt_num: 4*llava_txt_num])\n",
    "    fifth_max = np.mean(bart_score[4*llava_txt_num: ])\n",
    "    \n",
    "    if first_max == max(first_max, second_max, third_max, fourth_max, fifth_max):\n",
    "        correct = correct + 1\n",
    "    print(correct/num, num)"
   ]
  }
 ],
 "metadata": {
  "kernelspec": {
   "display_name": "llava",
   "language": "python",
   "name": "python3"
  },
  "language_info": {
   "codemirror_mode": {
    "name": "ipython",
    "version": 3
   },
   "file_extension": ".py",
   "mimetype": "text/x-python",
   "name": "python",
   "nbconvert_exporter": "python",
   "pygments_lexer": "ipython3",
   "version": "3.10.13"
  }
 },
 "nbformat": 4,
 "nbformat_minor": 2
}
